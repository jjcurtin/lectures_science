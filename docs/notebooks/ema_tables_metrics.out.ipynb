{
 "cells": [
  {
   "cell_type": "markdown",
   "metadata": {},
   "source": [
    "# Performance Metrics Tables for EMA study\n",
    "\n",
    "John Curtin\n",
    "\n",
    "## Overview\n",
    "\n",
    "## Set up environment"
   ],
   "id": "cc88a843-4864-42a8-9afa-8d6f1f0c1e0c"
  },
  {
   "cell_type": "code",
   "execution_count": null,
   "metadata": {},
   "outputs": [
    {
     "output_type": "stream",
     "name": "stderr",
     "text": [
      "── Attaching core tidyverse packages ──────────────────────── tidyverse 2.0.0 ──\n",
      "✔ dplyr     1.1.2     ✔ readr     2.1.4\n",
      "✔ forcats   1.0.0     ✔ stringr   1.5.0\n",
      "✔ ggplot2   3.4.2     ✔ tibble    3.2.1\n",
      "✔ lubridate 1.9.2     ✔ tidyr     1.3.0\n",
      "✔ purrr     1.0.1     \n",
      "── Conflicts ────────────────────────────────────────── tidyverse_conflicts() ──\n",
      "✖ dplyr::filter() masks stats::filter()\n",
      "✖ dplyr::lag()    masks stats::lag()\n",
      "ℹ Use the conflicted package (<http://conflicted.r-lib.org/>) to force all conflicts to become errors"
     ]
    },
    {
     "output_type": "stream",
     "name": "stderr",
     "text": [
      "ℹ SHA-1 hash of file is \"a58e57da996d1b70bb9a5b58241325d6fd78890f\""
     ]
    }
   ],
   "source": [
    "# handle conflicts\n",
    "options(conflicts.policy = \"depends.ok\")\n",
    "# devtools::source_url(\"https://github.com/jjcurtin/lab_support/blob/main/fun_ml.R?raw=true\")\n",
    "# tidymodels_conflictRules()\n",
    "\n",
    "library(kableExtra, exclude = \"group_rows\")\n",
    "# library(patchwork)\n",
    "# library(ggtext)\n",
    "# library(consort)\n",
    "# library(tidyposterior)\n",
    "library(tidyverse)\n"
   ],
   "id": "2f12bef3-43c2-4ed8-99ee-e7f0a78848d8"
  },
  {
   "cell_type": "markdown",
   "metadata": {},
   "source": [
    "## Make metrics df"
   ],
   "id": "c3fab999-f58f-432a-816d-e7b6046a33eb"
  },
  {
   "cell_type": "code",
   "execution_count": null,
   "metadata": {},
   "outputs": [],
   "source": [
    "metrics_week <- read_csv(file.path(path_models, \n",
    "                                   \"test_metrics_1week_0_v5_nested.csv\"),\n",
    "                         col_types = cols())\n",
    "metrics_day <- read_csv(file.path(path_models, \n",
    "                                  \"test_metrics_1day_0_v5_nested.csv\"),\n",
    "                        col_types = cols())\n",
    "metrics_hour <- read_csv(file.path(path_models, \n",
    "                                   \"test_metrics_1hour_0_v5_nested.csv\"),\n",
    "                         col_types = cols())\n"
   ],
   "id": "5e84c1c0-a484-44ca-9377-2f56486a4b02"
  },
  {
   "cell_type": "code",
   "execution_count": null,
   "metadata": {},
   "outputs": [],
   "source": [
    "metrics <- metrics_week |> \n",
    "  mutate(model = \"Week\") |> \n",
    "  bind_rows(metrics_day |> \n",
    "              mutate(model = \"Day\")) |> \n",
    "  bind_rows(metrics_hour |> \n",
    "              mutate(model = \"Hour\")) |> \n",
    "  group_by(.metric, model) |> \n",
    "  summarize(median = median(.estimate), .groups = \"drop\") |> \n",
    "  pivot_wider(names_from = model, values_from = median) |> \n",
    "  select(.metric, Week, Day, Hour)\n",
    "\n",
    "metrics <- metrics[c(4,5,6, 1, 3, 2),]\n"
   ],
   "id": "0a732581-5e28-42ad-adee-fcbab412f1b6"
  },
  {
   "cell_type": "code",
   "execution_count": null,
   "metadata": {},
   "outputs": [
    {
     "output_type": "display_data",
     "metadata": {},
     "data": {
      "text/html": [
       "\n"
      ],
      "text/markdown": [
       "  Metric                      Week    Day     Hour\n",
       "  --------------------------- ------- ------- -------\n",
       "  auROC                       0.891   0.899   0.929\n",
       "  sensitivity                 0.823   0.828   0.864\n",
       "  specificity                 0.819   0.845   0.881\n",
       "  balanced accuracy           0.828   0.835   0.854\n",
       "  positive predictive value   0.630   0.300   0.025\n",
       "  negative predictive value   0.944   0.988   0.999\n",
       "\n",
       "  : Performance Metrics for Full models by Prediction Window\n"
      ]
     }
    }
   ],
   "source": [
    "\n",
    "metrics |> \n",
    " mutate(.metric = case_when(.metric == \"roc_auc\" ~ \"auROC\",\n",
    "                            .metric == \"sens\" ~ \"sensitivity\",\n",
    "                            .metric == \"spec\" ~ \"specificity\",\n",
    "                            .metric == \"bal_accuracy\" ~ \"balanced accuracy\",\n",
    "                            .metric == \"ppv\" ~ \"positive predictive value\",\n",
    "                            .metric == \"npv\" ~ \"negative predictive value\")) |> \n",
    " kbl(col.names = c(\"Metric\", \"Week\", \"Day\", \"Hour\"),\n",
    "     booktabs = TRUE,\n",
    "     digits = 3,\n",
    "     align = c(\"l\", \"l\", \"l\", \"l\"),\n",
    "     linesep = \"\",\n",
    "     caption = \"Performance Metrics for Full models by Prediction Window\") |>  \n",
    "  kable_styling(position = \"left\", latex_options = c(\"HOLD_position\")) |>  \n",
    "  column_spec(column = 1, width = \"25em\")  \n"
   ],
   "id": "67bf1a9e-61d7-4840-a46c-605b7e226e2f"
  },
  {
   "cell_type": "code",
   "execution_count": null,
   "metadata": {},
   "outputs": [],
   "source": [
    "# \n",
    "# \n",
    "# metrics_subset <- metrics |> \n",
    "#   mutate(day = NA, hour = NA)\n",
    "# metrics_subset[1, 2] <- NA\n",
    "# metrics_subset[7, ] <- NA\n",
    "# \n",
    "# metrics_subset |>\n",
    "#  kbl(format = \"html\", col.names = c(\"\", \"Week\", \"Day\", \"Hour\"),\n",
    "#       digits = 2,\n",
    "#       align = c(\"r\", \"c\", \"c\", \"c\"),\n",
    "#      linesep = \"\") |> \n",
    "#   row_spec(row = 0, align = \"c\") |> \n",
    "#   kable_styling(full_width = FALSE) |> \n",
    "#   kable_classic(\"striped\") |> \n",
    "#   column_spec(2, color  = \"red\", bold = TRUE)\n"
   ],
   "id": "f8554e7a-7c0c-4d40-8299-4e65798b9f42"
  }
 ],
 "nbformat": 4,
 "nbformat_minor": 5,
 "metadata": {}
}
