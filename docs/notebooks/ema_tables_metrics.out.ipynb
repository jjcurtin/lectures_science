{
 "cells": [
  {
   "cell_type": "markdown",
   "metadata": {},
   "source": [
    "# Performance Metrics Tables for EMA study\n",
    "\n",
    "John Curtin\n",
    "\n",
    "## Overview\n",
    "\n",
    "## Set up environment"
   ],
   "id": "fcf82337-01bd-45fb-8c80-066fadb1f2cf"
  },
  {
   "cell_type": "code",
   "execution_count": null,
   "metadata": {},
   "outputs": [
    {
     "output_type": "stream",
     "name": "stderr",
     "text": [
      "── Attaching core tidyverse packages ──────────────────────── tidyverse 2.0.0 ──\n",
      "✔ dplyr     1.1.2     ✔ readr     2.1.4\n",
      "✔ forcats   1.0.0     ✔ stringr   1.5.0\n",
      "✔ ggplot2   3.4.2     ✔ tibble    3.2.1\n",
      "✔ lubridate 1.9.2     ✔ tidyr     1.3.0\n",
      "✔ purrr     1.0.1     \n",
      "── Conflicts ────────────────────────────────────────── tidyverse_conflicts() ──\n",
      "✖ dplyr::filter() masks stats::filter()\n",
      "✖ dplyr::lag()    masks stats::lag()\n",
      "ℹ Use the conflicted package (<http://conflicted.r-lib.org/>) to force all conflicts to become errors"
     ]
    },
    {
     "output_type": "stream",
     "name": "stderr",
     "text": [
      "ℹ SHA-1 hash of file is \"a58e57da996d1b70bb9a5b58241325d6fd78890f\""
     ]
    }
   ],
   "source": [
    "# handle conflicts\n",
    "options(conflicts.policy = \"depends.ok\")\n",
    "\n",
    "library(kableExtra, exclude = \"group_rows\")\n",
    "library(tidyverse)\n"
   ],
   "id": "9794c602-220f-42d8-a4b6-7acf42b20825"
  },
  {
   "cell_type": "markdown",
   "metadata": {},
   "source": [
    "## Make metrics df"
   ],
   "id": "c2246535-2d38-4317-b7b5-5081f49b30b2"
  },
  {
   "cell_type": "code",
   "execution_count": null,
   "metadata": {},
   "outputs": [],
   "source": [
    "metrics_week <- read_csv(file.path(path_models, \n",
    "                                   \"test_metrics_1week_0_v5_nested.csv\"),\n",
    "                         col_types = cols())\n",
    "metrics_day <- read_csv(file.path(path_models, \n",
    "                                  \"test_metrics_1day_0_v5_nested.csv\"),\n",
    "                        col_types = cols())\n",
    "metrics_hour <- read_csv(file.path(path_models, \n",
    "                                   \"test_metrics_1hour_0_v5_nested.csv\"),\n",
    "                         col_types = cols())\n"
   ],
   "id": "6ecd53fc-093c-47cc-9fd9-72f6bfd61c9e"
  },
  {
   "cell_type": "code",
   "execution_count": null,
   "metadata": {},
   "outputs": [],
   "source": [
    "metrics <- metrics_week |> \n",
    "  mutate(model = \"Week\") |> \n",
    "  bind_rows(metrics_day |> \n",
    "              mutate(model = \"Day\")) |> \n",
    "  bind_rows(metrics_hour |> \n",
    "              mutate(model = \"Hour\")) |> \n",
    "  group_by(.metric, model) |> \n",
    "  summarize(median = median(.estimate), .groups = \"drop\") |> \n",
    "  pivot_wider(names_from = model, values_from = median) |> \n",
    "  select(.metric, Week, Day, Hour)\n",
    "\n",
    "metrics <- metrics[c(4,5,6, 1, 3, 2),]\n"
   ],
   "id": "f3f75fe2-9d1d-4f4e-8651-0d0a77ab8864"
  },
  {
   "cell_type": "code",
   "execution_count": null,
   "metadata": {},
   "outputs": [],
   "source": [
    "\n",
    "# footnote_table_metrics <- \"Areas under the receiver operating characteristic curves (auROCs) summarize the model's sensitivity and specificity over all possible decision thresholds. Sensitivity, specificity, balanced accuracy, positive predictive value, and negative predictive value are performance metrics calculated at a single decision threshold for each model determined with Youden’s index. All metrics represent median values across 30 held-out test sets.\" \n",
    "# \n",
    "# metrics |> \n",
    "#  mutate(.metric = case_when(.metric == \"roc_auc\" ~ \"auROC\",\n",
    "#                             .metric == \"sens\" ~ \"sensitivity\",\n",
    "#                             .metric == \"spec\" ~ \"specificity\",\n",
    "#                             .metric == \"bal_accuracy\" ~ \"balanced accuracy\",\n",
    "#                             .metric == \"ppv\" ~ \"positive predictive value\",\n",
    "#                             .metric == \"npv\" ~ \"negative predictive value\")) |> \n",
    "#  kbl(col.names = c(\"Metric\", \"Week\", \"Day\", \"Hour\"),\n",
    "#      booktabs = TRUE,\n",
    "#      digits = 2,\n",
    "#      align = c(\"l\", \"l\", \"l\", \"l\"),\n",
    "#      linesep = \"\",\n",
    "#      caption = \"Performance Metrics for Full models by Prediction Window\") |>  \n",
    "#   kable_styling(position = \"left\", latex_options = c(\"HOLD_position\")) |>  \n",
    "#   column_spec(column = 1, width = \"25em\") |>   \n",
    "#   kableExtra::footnote(general = c(footnote_table_metrics), threeparttable = TRUE)\n"
   ],
   "id": "5d3780d5-0bad-42da-a602-762feaf8e51c"
  },
  {
   "cell_type": "code",
   "execution_count": null,
   "metadata": {},
   "outputs": [
    {
     "output_type": "display_data",
     "metadata": {},
     "data": {
      "text/html": [
       "\n"
      ],
      "text/markdown": [
       "+-----------+-----------+-----------+-----------+-----------+-----------+\n",
       "|           | :::       |           | :::       |           | :::       |\n",
       "|           |  {style=\" |           |  {style=\" |           |  {style=\" |\n",
       "|           | border-bo |           | border-bo |           | border-bo |\n",
       "|           | ttom: 1px |           | ttom: 1px |           | ttom: 1px |\n",
       "|           |  solid #d |           |  solid #d |           |  solid #d |\n",
       "|           | dd; paddi |           | dd; paddi |           | dd; paddi |\n",
       "|           | ng-bottom |           | ng-bottom |           | ng-bottom |\n",
       "|           | : 5px; \"} |           | : 5px; \"} |           | : 5px; \"} |\n",
       "|           | Group 1   |           | Group 2   |           | Group 3   |\n",
       "|           | :::       |           | :::       |           | :::       |\n",
       "+:==========+==========:+==========:+==========:+==========:+==========:+\n",
       "|           | mpg       | cyl       | disp      | hp        | drat      |\n",
       "+-----------+-----------+-----------+-----------+-----------+-----------+\n",
       "| Mazda RX4 | 21.0      | 6         | 160.0     | 110       | 3.90      |\n",
       "+-----------+-----------+-----------+-----------+-----------+-----------+\n",
       "| Mazda RX4 | 21.0      | 6         | 160.0     | 110       | 3.90      |\n",
       "| Wag       |           |           |           |           |           |\n",
       "+-----------+-----------+-----------+-----------+-----------+-----------+\n",
       "| Datsun    | 22.8      | 4         | 108.0     | 93        | 3.85      |\n",
       "| 710       |           |           |           |           |           |\n",
       "+-----------+-----------+-----------+-----------+-----------+-----------+\n",
       "| Hornet 4  | 21.4      | 6         | 258.0     | 110       | 3.08      |\n",
       "| Drive     |           |           |           |           |           |\n",
       "+-----------+-----------+-----------+-----------+-----------+-----------+\n",
       "| Hornet    | 18.7      | 8         | 360.0     | 175       | 3.15      |\n",
       "| S         |           |           |           |           |           |\n",
       "| portabout |           |           |           |           |           |\n",
       "+-----------+-----------+-----------+-----------+-----------+-----------+\n",
       "| Valiant   | 18.1      | 6         | 225.0     | 105       | 2.76      |\n",
       "+-----------+-----------+-----------+-----------+-----------+-----------+\n",
       "| Duster    | 14.3      | 8         | 360.0     | 245       | 3.21      |\n",
       "| 360       |           |           |           |           |           |\n",
       "+-----------+-----------+-----------+-----------+-----------+-----------+\n",
       "| Merc 240D | 24.4      | 4         | 146.7     | 62        | 3.69      |\n",
       "+-----------+-----------+-----------+-----------+-----------+-----------+\n",
       "| Merc 230  | 22.8      | 4         | 140.8     | 95        | 3.92      |\n",
       "+-----------+-----------+-----------+-----------+-----------+-----------+\n",
       "| Merc 280  | 19.2      | 6         | 167.6     | 123       | 3.92      |\n",
       "+-----------+-----------+-----------+-----------+-----------+-----------+\n",
       "\n",
       ": Table 1. A table.\n"
      ]
     }
    }
   ],
   "source": [
    "\n",
    "kbl(mtcars[1:10, 1:5]) |>\n",
    "  kable_styling(bootstrap_options = \"striped\", full_width = F, position = \"float_right\") |>\n",
    "  kable_styling(fixed_thead = T) |>\n",
    "  add_header_above(c(\" \" = 1, \"Group 1\" = 2, \"Group 2\" = 2, \"Group 3\" = 1))\n"
   ],
   "id": "61890523-89fa-4679-9157-f7b35b4d6eb5"
  },
  {
   "cell_type": "code",
   "execution_count": null,
   "metadata": {},
   "outputs": [],
   "source": [
    "# metrics |> \n",
    "#   slice(1:4) |> \n",
    "#   mutate(Day = \"\", Hour = \"\") |> \n",
    "#   mutate(.metric = case_when(.metric == \"roc_auc\" ~ \"auROC\",\n",
    "#                         .metric == \"sens\" ~ \"sensitivity\",\n",
    "#                         .metric == \"spec\" ~ \"specificity\",\n",
    "#                         .metric == \"bal_accuracy\" ~ \"balanced accuracy\")) |> \n",
    "#   kbl(col.names = c(\"\", \"Week\", \"Day\", \"Hour\"),\n",
    "#     digits = 2,\n",
    "#     align = c(\"r\", \"c\", \"c\", \"c\"),\n",
    "#     linesep = \"\") |> \n",
    "#   row_spec(row = 0, align = \"c\") |> \n",
    "#   kable_styling(full_width = FALSE) |> \n",
    "#   kable_classic(\"striped\") |> \n",
    "#   column_spec(2, color  = \"red\", bold = TRUE)\n"
   ],
   "id": "c2c4c3db-0b6e-4484-ae0b-42bfad45bb49"
  }
 ],
 "nbformat": 4,
 "nbformat_minor": 5,
 "metadata": {}
}
