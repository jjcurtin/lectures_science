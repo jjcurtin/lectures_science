{
 "cells": [
  {
   "cell_type": "markdown",
   "metadata": {},
   "source": [
    "# Performance Metrics Tables for EMA study\n",
    "\n",
    "John Curtin\n",
    "\n",
    "## Overview\n",
    "\n",
    "## Set up environment"
   ],
   "id": "93411820-7302-474c-9749-ae20da5b1b62"
  },
  {
   "cell_type": "code",
   "execution_count": null,
   "metadata": {},
   "outputs": [
    {
     "output_type": "stream",
     "name": "stderr",
     "text": [
      "── Attaching core tidyverse packages ──────────────────────── tidyverse 2.0.0 ──\n",
      "✔ dplyr     1.1.2     ✔ readr     2.1.4\n",
      "✔ forcats   1.0.0     ✔ stringr   1.5.0\n",
      "✔ ggplot2   3.4.2     ✔ tibble    3.2.1\n",
      "✔ lubridate 1.9.2     ✔ tidyr     1.3.0\n",
      "✔ purrr     1.0.1     \n",
      "── Conflicts ────────────────────────────────────────── tidyverse_conflicts() ──\n",
      "✖ dplyr::filter() masks stats::filter()\n",
      "✖ dplyr::lag()    masks stats::lag()\n",
      "ℹ Use the conflicted package (<http://conflicted.r-lib.org/>) to force all conflicts to become errors"
     ]
    },
    {
     "output_type": "stream",
     "name": "stderr",
     "text": [
      "ℹ SHA-1 hash of file is \"a58e57da996d1b70bb9a5b58241325d6fd78890f\""
     ]
    }
   ],
   "source": [
    "# handle conflicts\n",
    "options(conflicts.policy = \"depends.ok\")\n",
    "# devtools::source_url(\"https://github.com/jjcurtin/lab_support/blob/main/fun_ml.R?raw=true\")\n",
    "# tidymodels_conflictRules()\n",
    "\n",
    "library(kableExtra, exclude = \"group_rows\")\n",
    "# library(patchwork)\n",
    "# library(ggtext)\n",
    "# library(consort)\n",
    "# library(tidyposterior)\n",
    "library(tidyverse)"
   ],
   "id": "29815fb3-54a5-444e-8a2e-e56ba83d50c8"
  },
  {
   "cell_type": "markdown",
   "metadata": {},
   "source": [
    "## Make metrics df"
   ],
   "id": "cd836021-2bbc-4615-8b6d-c6582073b3d2"
  },
  {
   "cell_type": "code",
   "execution_count": null,
   "metadata": {},
   "outputs": [],
   "source": [
    "metrics_week <- read_csv(file.path(path_models, \n",
    "                                   \"test_metrics_1week_0_v5_nested.csv\"),\n",
    "                         col_types = cols())\n",
    "metrics_day <- read_csv(file.path(path_models, \n",
    "                                  \"test_metrics_1day_0_v5_nested.csv\"),\n",
    "                        col_types = cols())\n",
    "metrics_hour <- read_csv(file.path(path_models, \n",
    "                                   \"test_metrics_1hour_0_v5_nested.csv\"),\n",
    "                         col_types = cols())"
   ],
   "id": "f7351e86-9264-46a0-a075-379152e719fe"
  },
  {
   "cell_type": "code",
   "execution_count": null,
   "metadata": {},
   "outputs": [],
   "source": [
    "metrics <- metrics_week |> \n",
    "  mutate(model = \"Week\") |> \n",
    "  bind_rows(metrics_day |> \n",
    "              mutate(model = \"Day\")) |> \n",
    "  bind_rows(metrics_hour |> \n",
    "              mutate(model = \"Hour\")) |> \n",
    "  group_by(.metric, model) |> \n",
    "  summarize(median = median(.estimate), .groups = \"drop\") |> \n",
    "  pivot_wider(names_from = model, values_from = median) |> \n",
    "  select(.metric, Week, Day, Hour)\n",
    "\n",
    "metrics <- metrics[c(4,5,6, 1, 3, 2),]"
   ],
   "id": "89271d61-f3dc-43e5-bd73-492018cbbf58"
  },
  {
   "cell_type": "code",
   "execution_count": null,
   "metadata": {},
   "outputs": [
    {
     "output_type": "display_data",
     "metadata": {},
     "data": {
      "text/html": [
       "\n"
      ],
      "text/markdown": [
       "  Metric                      Week    Day     Hour\n",
       "  --------------------------- ------- ------- -------\n",
       "  auROC                       0.891   0.899   0.929\n",
       "  sensitivity                 0.823   0.828   0.864\n",
       "  specificity                 0.819   0.845   0.881\n",
       "  balanced accuracy           0.828   0.835   0.854\n",
       "  positive predictive value   0.630   0.300   0.025\n",
       "  negative predictive value   0.944   0.988   0.999\n",
       "\n",
       "  : Performance Metrics for Full models by Prediction Window\n"
      ]
     }
    }
   ],
   "source": [
    "#| label: table-paper\n",
    "\n",
    "metrics |> \n",
    " mutate(.metric = case_when(.metric == \"roc_auc\" ~ \"auROC\",\n",
    "                            .metric == \"sens\" ~ \"sensitivity\",\n",
    "                            .metric == \"spec\" ~ \"specificity\",\n",
    "                            .metric == \"bal_accuracy\" ~ \"balanced accuracy\",\n",
    "                            .metric == \"ppv\" ~ \"positive predictive value\",\n",
    "                            .metric == \"npv\" ~ \"negative predictive value\")) |> \n",
    " kbl(col.names = c(\"Metric\", \"Week\", \"Day\", \"Hour\"),\n",
    "     booktabs = TRUE,\n",
    "     digits = 3,\n",
    "     align = c(\"l\", \"l\", \"l\", \"l\"),\n",
    "     linesep = \"\",\n",
    "     caption = \"Performance Metrics for Full models by Prediction Window\") |>  \n",
    "  kable_styling(position = \"left\", latex_options = c(\"HOLD_position\")) |>  \n",
    "  column_spec(column = 1, width = \"25em\")  "
   ],
   "id": "d5b0f893-05fa-44ef-92a9-92a7a142c431"
  },
  {
   "cell_type": "code",
   "execution_count": null,
   "metadata": {},
   "outputs": [],
   "source": [
    "# \n",
    "# \n",
    "# metrics_subset <- metrics |> \n",
    "#   mutate(day = NA, hour = NA)\n",
    "# metrics_subset[1, 2] <- NA\n",
    "# metrics_subset[7, ] <- NA\n",
    "# \n",
    "# metrics_subset |>\n",
    "#  kbl(format = \"html\", col.names = c(\"\", \"Week\", \"Day\", \"Hour\"),\n",
    "#       digits = 2,\n",
    "#       align = c(\"r\", \"c\", \"c\", \"c\"),\n",
    "#      linesep = \"\") |> \n",
    "#   row_spec(row = 0, align = \"c\") |> \n",
    "#   kable_styling(full_width = FALSE) |> \n",
    "#   kable_classic(\"striped\") |> \n",
    "#   column_spec(2, color  = \"red\", bold = TRUE)"
   ],
   "id": "1c93415f-eafb-47b1-b4c7-d82cb238f99c"
  }
 ],
 "nbformat": 4,
 "nbformat_minor": 5,
 "metadata": {}
}
