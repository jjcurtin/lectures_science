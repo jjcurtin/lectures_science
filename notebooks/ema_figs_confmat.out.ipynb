{
 "cells": [
  {
   "cell_type": "markdown",
   "metadata": {},
   "source": [
    "# EMA Paper Confusion Matrices\n",
    "\n",
    "John Curtin\n",
    "\n",
    "## Set up environment"
   ],
   "id": "b6435e5b-3750-4600-9cd8-f5ceaa9c1a66"
  },
  {
   "cell_type": "code",
   "execution_count": null,
   "metadata": {},
   "outputs": [
    {
     "output_type": "stream",
     "name": "stderr",
     "text": [
      "── Attaching core tidyverse packages ──────────────────────── tidyverse 2.0.0 ──\n",
      "✔ dplyr     1.1.2     ✔ readr     2.1.4\n",
      "✔ forcats   1.0.0     ✔ stringr   1.5.0\n",
      "✔ ggplot2   3.4.2     ✔ tibble    3.2.1\n",
      "✔ lubridate 1.9.2     ✔ tidyr     1.3.0\n",
      "✔ purrr     1.0.1     \n",
      "── Conflicts ────────────────────────────────────────── tidyverse_conflicts() ──\n",
      "✖ dplyr::filter() masks stats::filter()\n",
      "✖ dplyr::lag()    masks stats::lag()\n",
      "ℹ Use the conflicted package (<http://conflicted.r-lib.org/>) to force all conflicts to become errors"
     ]
    },
    {
     "output_type": "stream",
     "name": "stderr",
     "text": [
      "ℹ SHA-1 hash of file is \"a58e57da996d1b70bb9a5b58241325d6fd78890f\""
     ]
    }
   ],
   "source": [
    "# handle conflicts\n",
    "options(conflicts.policy = \"depends.ok\")\n",
    "\n",
    "library(tidyverse, quietly = TRUE)\n"
   ],
   "id": "b9732eeb-7dd0-4beb-9f42-c2f791218d66"
  },
  {
   "cell_type": "markdown",
   "metadata": {},
   "source": [
    "## Open preds dfs"
   ],
   "id": "c373dddb-380a-458b-9463-bbebf4e407bd"
  },
  {
   "cell_type": "code",
   "execution_count": null,
   "metadata": {},
   "outputs": [],
   "source": [
    "preds_week<- read_rds(file.path(path_models, \n",
    "                               \"outer_preds_1week_0_v5_nested_main.rds\"))\n",
    "preds_day<- read_rds(file.path(path_models, \n",
    "                              \"outer_preds_1day_0_v5_nested_main.rds\"))\n",
    "preds_hour<- read_rds(file.path(path_models, \n",
    "                               \"outer_preds_1hour_0_v5_nested_main.rds\")) \n"
   ],
   "id": "9da2e924-5174-4524-a3c5-7051fc29f662"
  }
 ],
 "nbformat": 4,
 "nbformat_minor": 5,
 "metadata": {}
}
