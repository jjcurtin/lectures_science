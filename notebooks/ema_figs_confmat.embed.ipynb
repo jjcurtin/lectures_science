{
 "cells": [
  {
   "cell_type": "markdown",
   "metadata": {},
   "source": [
    "# EMA Paper Confusion Matrices\n",
    "\n",
    "John Curtin\n",
    "\n",
    "## Set up environment"
   ],
   "id": "0d98a450-a0dc-4be9-8391-4180bd973371"
  },
  {
   "cell_type": "code",
   "execution_count": null,
   "metadata": {},
   "outputs": [
    {
     "output_type": "stream",
     "name": "stderr",
     "text": [
      "── Attaching core tidyverse packages ──────────────────────── tidyverse 2.0.0 ──\n",
      "✔ dplyr     1.1.2     ✔ readr     2.1.4\n",
      "✔ forcats   1.0.0     ✔ stringr   1.5.0\n",
      "✔ ggplot2   3.4.2     ✔ tibble    3.2.1\n",
      "✔ lubridate 1.9.2     ✔ tidyr     1.3.0\n",
      "✔ purrr     1.0.1     \n",
      "── Conflicts ────────────────────────────────────────── tidyverse_conflicts() ──\n",
      "✖ dplyr::filter() masks stats::filter()\n",
      "✖ dplyr::lag()    masks stats::lag()\n",
      "ℹ Use the conflicted package (<http://conflicted.r-lib.org/>) to force all conflicts to become errors"
     ]
    },
    {
     "output_type": "stream",
     "name": "stderr",
     "text": [
      "ℹ SHA-1 hash of file is \"a58e57da996d1b70bb9a5b58241325d6fd78890f\""
     ]
    }
   ],
   "source": [
    "# handle conflicts\n",
    "options(conflicts.policy = \"depends.ok\")\n",
    "\n",
    "library(tidyverse, quietly = TRUE)"
   ],
   "id": "e066dc3f-fba4-41dc-acd2-fa247306279d"
  },
  {
   "cell_type": "markdown",
   "metadata": {},
   "source": [
    "## Open preds dfs"
   ],
   "id": "4e1d0f58-c250-4563-a753-e332fde0d01f"
  },
  {
   "cell_type": "code",
   "execution_count": null,
   "metadata": {},
   "outputs": [],
   "source": [
    "preds_week<- read_rds(file.path(path_models, \n",
    "                               \"outer_preds_1week_0_v5_nested_main.rds\"))\n",
    "preds_day<- read_rds(file.path(path_models, \n",
    "                              \"outer_preds_1day_0_v5_nested_main.rds\"))\n",
    "preds_hour<- read_rds(file.path(path_models, \n",
    "                               \"outer_preds_1hour_0_v5_nested_main.rds\")) "
   ],
   "id": "fed0c230-df14-4e59-880e-39199e1f3b6e"
  }
 ],
 "nbformat": 4,
 "nbformat_minor": 5,
 "metadata": {}
}
