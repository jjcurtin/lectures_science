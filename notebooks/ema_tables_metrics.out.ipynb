{
 "cells": [
  {
   "cell_type": "markdown",
   "metadata": {},
   "source": [
    "# Performance Metrics Tables for EMA study\n",
    "\n",
    "John Curtin\n",
    "\n",
    "## Overview\n",
    "\n",
    "## Set up environment"
   ],
   "id": "1f705a20-e157-49b3-a450-04addbcfd8f7"
  },
  {
   "cell_type": "code",
   "execution_count": null,
   "metadata": {},
   "outputs": [
    {
     "output_type": "stream",
     "name": "stderr",
     "text": [
      "── Attaching core tidyverse packages ──────────────────────── tidyverse 2.0.0 ──\n",
      "✔ dplyr     1.1.2     ✔ readr     2.1.4\n",
      "✔ forcats   1.0.0     ✔ stringr   1.5.0\n",
      "✔ ggplot2   3.4.2     ✔ tibble    3.2.1\n",
      "✔ lubridate 1.9.2     ✔ tidyr     1.3.0\n",
      "✔ purrr     1.0.1     \n",
      "── Conflicts ────────────────────────────────────────── tidyverse_conflicts() ──\n",
      "✖ dplyr::filter() masks stats::filter()\n",
      "✖ dplyr::lag()    masks stats::lag()\n",
      "ℹ Use the conflicted package (<http://conflicted.r-lib.org/>) to force all conflicts to become errors"
     ]
    },
    {
     "output_type": "stream",
     "name": "stderr",
     "text": [
      "ℹ SHA-1 hash of file is \"a58e57da996d1b70bb9a5b58241325d6fd78890f\""
     ]
    }
   ],
   "source": [
    "# handle conflicts\n",
    "options(conflicts.policy = \"depends.ok\")\n",
    "\n",
    "library(kableExtra, exclude = \"group_rows\", quietly = TRUE)\n",
    "library(tidyverse, quietly = TRUE)\n"
   ],
   "id": "6a5a0fb1-5e23-421d-962a-a8375dd351e7"
  },
  {
   "cell_type": "markdown",
   "metadata": {},
   "source": [
    "## Make metrics df"
   ],
   "id": "4a76a731-77ef-48ea-8f5c-c2975f294668"
  },
  {
   "cell_type": "code",
   "execution_count": null,
   "metadata": {},
   "outputs": [],
   "source": [
    "metrics_week <- read_csv(file.path(path_models, \n",
    "                                   \"test_metrics_1week_0_v5_nested.csv\"),\n",
    "                         col_types = cols())\n",
    "metrics_day <- read_csv(file.path(path_models, \n",
    "                                  \"test_metrics_1day_0_v5_nested.csv\"),\n",
    "                        col_types = cols())\n",
    "metrics_hour <- read_csv(file.path(path_models, \n",
    "                                   \"test_metrics_1hour_0_v5_nested.csv\"),\n",
    "                         col_types = cols())\n"
   ],
   "id": "8e5f0646-3c9f-48d7-8e3e-84021ed869b4"
  },
  {
   "cell_type": "code",
   "execution_count": null,
   "metadata": {},
   "outputs": [],
   "source": [
    "metrics <- metrics_week |> \n",
    "  mutate(model = \"Week\") |> \n",
    "  bind_rows(metrics_day |> \n",
    "              mutate(model = \"Day\")) |> \n",
    "  bind_rows(metrics_hour |> \n",
    "              mutate(model = \"Hour\")) |> \n",
    "  group_by(.metric, model) |> \n",
    "  summarize(median = median(.estimate), .groups = \"drop\") |> \n",
    "  pivot_wider(names_from = model, values_from = median) |> \n",
    "  select(.metric, Week, Day, Hour)\n",
    "\n",
    "metrics <- metrics[c(4,5,6, 1, 3, 2),]\n",
    "\n",
    "metrics |> write_csv(here::here(\"notebooks/analysis_objects\", \"ema_metrics.csv\"))\n"
   ],
   "id": "15a3ad69-fa9c-4062-bf89-21350a90792c"
  },
  {
   "cell_type": "code",
   "execution_count": null,
   "metadata": {},
   "outputs": [],
   "source": [
    "# footnote_table_metrics <- \"Areas under the receiver operating characteristic curves (auROCs) summarize the model's sensitivity and specificity over all possible decision thresholds. Sensitivity, specificity, balanced accuracy, positive predictive value, and negative predictive value are performance metrics calculated at a single decision threshold for each model determined with Youden’s index. All metrics represent median values across 30 held-out test sets.\" \n",
    "# \n",
    "# metrics |> \n",
    "#  mutate(.metric = case_when(.metric == \"roc_auc\" ~ \"auROC\",\n",
    "#                             .metric == \"sens\" ~ \"sensitivity\",\n",
    "#                             .metric == \"spec\" ~ \"specificity\",\n",
    "#                             .metric == \"bal_accuracy\" ~ \"balanced accuracy\",\n",
    "#                             .metric == \"ppv\" ~ \"positive predictive value\",\n",
    "#                             .metric == \"npv\" ~ \"negative predictive value\")) |> \n",
    "#  kbl(col.names = c(\"Metric\", \"Week\", \"Day\", \"Hour\"),\n",
    "#      booktabs = TRUE,\n",
    "#      digits = 2,\n",
    "#      align = c(\"l\", \"l\", \"l\", \"l\"),\n",
    "#      linesep = \"\",\n",
    "#      caption = \"Performance Metrics for Full models by Prediction Window\") |>  \n",
    "#   kable_styling(position = \"left\", latex_options = c(\"HOLD_position\")) |>  \n",
    "#   column_spec(column = 1, width = \"25em\") |>   \n",
    "#   kableExtra::footnote(general = c(footnote_table_metrics), threeparttable = TRUE)\n"
   ],
   "id": "2964d2cb-d4b0-46f5-831e-1762b3924e79"
  },
  {
   "cell_type": "code",
   "execution_count": null,
   "metadata": {},
   "outputs": [
    {
     "output_type": "display_data",
     "metadata": {},
     "data": {
      "text/html": [
       "\n"
      ],
      "text/markdown": [
       "                       Week   Day   Hour\n",
       "  ------------------- ------ ----- ------\n",
       "                auROC  0.89        \n",
       "          sensitivity  0.82        \n",
       "          specificity  0.82        \n",
       "    balanced accuracy  0.83        \n"
      ]
     }
    }
   ],
   "source": [
    "metrics |>\n",
    "  slice(1:4) |>\n",
    "  mutate(Day = \"\", Hour = \"\") |>\n",
    "  mutate(.metric = case_when(.metric == \"roc_auc\" ~ \"auROC\",\n",
    "                        .metric == \"sens\" ~ \"sensitivity\",\n",
    "                        .metric == \"spec\" ~ \"specificity\",\n",
    "                        .metric == \"bal_accuracy\" ~ \"balanced accuracy\")) |>\n",
    "  kbl(col.names = c(\"\", \"Week\", \"Day\", \"Hour\"),\n",
    "    digits = 2,\n",
    "    align = c(\"r\", \"c\", \"c\", \"c\"),\n",
    "    linesep = \"\") |>\n",
    "  row_spec(row = 0, align = \"c\") |>\n",
    "  kable_styling(full_width = FALSE) |>\n",
    "  kable_classic(\"striped\") |>\n",
    "  column_spec(2, color  = \"red\", bold = TRUE)\n"
   ],
   "id": "0c936499-1b89-4acb-83b8-6aaec899e31c"
  }
 ],
 "nbformat": 4,
 "nbformat_minor": 5,
 "metadata": {}
}
